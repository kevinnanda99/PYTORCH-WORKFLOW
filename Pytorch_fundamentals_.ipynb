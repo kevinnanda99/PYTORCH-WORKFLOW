{
  "nbformat": 4,
  "nbformat_minor": 0,
  "metadata": {
    "colab": {
      "provenance": [],
      "authorship_tag": "ABX9TyMHRZWmPmr9dD3MVkYW3wXT",
      "include_colab_link": true
    },
    "kernelspec": {
      "name": "python3",
      "display_name": "Python 3"
    },
    "language_info": {
      "name": "python"
    }
  },
  "cells": [
    {
      "cell_type": "markdown",
      "metadata": {
        "id": "view-in-github",
        "colab_type": "text"
      },
      "source": [
        "<a href=\"https://colab.research.google.com/github/kevinnanda99/PYTORCH-WORKFLOW/blob/main/Pytorch_fundamentals_.ipynb\" target=\"_parent\"><img src=\"https://colab.research.google.com/assets/colab-badge.svg\" alt=\"Open In Colab\"/></a>"
      ]
    },
    {
      "cell_type": "code",
      "execution_count": null,
      "metadata": {
        "id": "mSFuv2mlaX0n"
      },
      "outputs": [],
      "source": [
        "import torch\n",
        "import pandas as pd\n",
        "import numpy as np\n",
        "import matplotlib.pyplot as plt\n",
        "import seaborn as sns"
      ]
    },
    {
      "cell_type": "markdown",
      "source": [
        " INTRODUCTION TENSORS"
      ],
      "metadata": {
        "id": "WobqKTUucJgZ"
      }
    },
    {
      "cell_type": "code",
      "source": [
        "#scalar\n",
        "scalar = torch.tensor(7)\n",
        "scalar"
      ],
      "metadata": {
        "colab": {
          "base_uri": "https://localhost:8080/"
        },
        "id": "K9Ic97PFbtZq",
        "outputId": "f45b53aa-c821-4c17-bc18-8fb2f03699e9"
      },
      "execution_count": null,
      "outputs": [
        {
          "output_type": "execute_result",
          "data": {
            "text/plain": [
              "tensor(7)"
            ]
          },
          "metadata": {},
          "execution_count": 2
        }
      ]
    },
    {
      "cell_type": "code",
      "source": [
        "scalar.ndim"
      ],
      "metadata": {
        "colab": {
          "base_uri": "https://localhost:8080/"
        },
        "id": "geQ3ouFJcXoB",
        "outputId": "fda4affd-0ad0-4ebc-999c-c0aaa6f21823"
      },
      "execution_count": null,
      "outputs": [
        {
          "output_type": "execute_result",
          "data": {
            "text/plain": [
              "0"
            ]
          },
          "metadata": {},
          "execution_count": 3
        }
      ]
    },
    {
      "cell_type": "code",
      "source": [
        "#vector\n",
        "# dimension - num of square brackets\n",
        "#shape - num of elements\n",
        "\n",
        "vector = torch.tensor([7,7])\n",
        "vector\n",
        "vector.ndim\n",
        "vector.shape"
      ],
      "metadata": {
        "colab": {
          "base_uri": "https://localhost:8080/"
        },
        "id": "xKHjBoUzcytn",
        "outputId": "b24076a9-bc22-4826-90f0-59d913b58b2d"
      },
      "execution_count": null,
      "outputs": [
        {
          "output_type": "execute_result",
          "data": {
            "text/plain": [
              "torch.Size([2])"
            ]
          },
          "metadata": {},
          "execution_count": 4
        }
      ]
    },
    {
      "cell_type": "code",
      "source": [
        "#matrix\n",
        "matrix = torch.tensor([[1,2],[2,7]])\n",
        "matrix\n",
        "matrix[1]"
      ],
      "metadata": {
        "colab": {
          "base_uri": "https://localhost:8080/"
        },
        "id": "41RwvuGpdEB1",
        "outputId": "230166a8-b55c-4265-f79e-faf12787a01e"
      },
      "execution_count": null,
      "outputs": [
        {
          "output_type": "execute_result",
          "data": {
            "text/plain": [
              "tensor([2, 7])"
            ]
          },
          "metadata": {},
          "execution_count": 5
        }
      ]
    },
    {
      "cell_type": "code",
      "source": [
        "#tensor\n",
        "tensor = torch.tensor([[[1,2,3],[4,5,6],[7,8,9]]])\n",
        "tensor\n",
        "tensor.shape"
      ],
      "metadata": {
        "colab": {
          "base_uri": "https://localhost:8080/"
        },
        "id": "ldBfdBdMdnhf",
        "outputId": "f5db3d71-11ff-4dfc-8eb7-4d23363bb815"
      },
      "execution_count": null,
      "outputs": [
        {
          "output_type": "execute_result",
          "data": {
            "text/plain": [
              "torch.Size([1, 3, 3])"
            ]
          },
          "metadata": {},
          "execution_count": 6
        }
      ]
    },
    {
      "cell_type": "code",
      "source": [
        "tensor2 = torch.tensor([[[1,2,3,4],[4,5,6,1],[7,8,9,4],[7,8,9,4]]])\n",
        "tensor2\n",
        "tensor2.shape"
      ],
      "metadata": {
        "colab": {
          "base_uri": "https://localhost:8080/"
        },
        "id": "WtYAfcnvemG8",
        "outputId": "6ec86410-85a3-4c92-cc58-219ba16ba534"
      },
      "execution_count": null,
      "outputs": [
        {
          "output_type": "execute_result",
          "data": {
            "text/plain": [
              "torch.Size([1, 4, 4])"
            ]
          },
          "metadata": {},
          "execution_count": 7
        }
      ]
    },
    {
      "cell_type": "markdown",
      "source": [
        "RANDOM TENSOR"
      ],
      "metadata": {
        "id": "0SD8QzD6gSq9"
      }
    },
    {
      "cell_type": "code",
      "source": [
        "random_tensor = torch.rand(7,5)\n",
        "random_tensor\n",
        "random_tensor.shape"
      ],
      "metadata": {
        "colab": {
          "base_uri": "https://localhost:8080/"
        },
        "id": "0VW2OOwHgmSy",
        "outputId": "d0d35bcb-9b11-419a-8d48-25b8edb1e854"
      },
      "execution_count": null,
      "outputs": [
        {
          "output_type": "execute_result",
          "data": {
            "text/plain": [
              "torch.Size([7, 5])"
            ]
          },
          "metadata": {},
          "execution_count": 8
        }
      ]
    },
    {
      "cell_type": "markdown",
      "source": [
        "# ZERO'S AND ONES"
      ],
      "metadata": {
        "id": "ibAvLK7bg5Sc"
      }
    },
    {
      "cell_type": "code",
      "source": [
        "zeros = torch.zeros(3,5)\n",
        "zeros\n",
        "ones = torch.ones(3,5)\n",
        "ones"
      ],
      "metadata": {
        "colab": {
          "base_uri": "https://localhost:8080/"
        },
        "id": "JtOrtyDjhwqC",
        "outputId": "a78d2804-85c4-46b4-c6df-f075942675b8"
      },
      "execution_count": null,
      "outputs": [
        {
          "output_type": "execute_result",
          "data": {
            "text/plain": [
              "tensor([[1., 1., 1., 1., 1.],\n",
              "        [1., 1., 1., 1., 1.],\n",
              "        [1., 1., 1., 1., 1.]])"
            ]
          },
          "metadata": {},
          "execution_count": 9
        }
      ]
    },
    {
      "cell_type": "code",
      "source": [
        "ones.dtype"
      ],
      "metadata": {
        "colab": {
          "base_uri": "https://localhost:8080/"
        },
        "id": "coZyebhdh8Vu",
        "outputId": "8e032ecd-48e0-4079-a997-f743e4d9f00f"
      },
      "execution_count": null,
      "outputs": [
        {
          "output_type": "execute_result",
          "data": {
            "text/plain": [
              "torch.float32"
            ]
          },
          "metadata": {},
          "execution_count": 10
        }
      ]
    },
    {
      "cell_type": "markdown",
      "source": [
        "RANGE OF TENSORS"
      ],
      "metadata": {
        "id": "wgvPM4K7iI74"
      }
    },
    {
      "cell_type": "code",
      "source": [
        "rep = torch.arange(1,100,2)\n",
        "rep"
      ],
      "metadata": {
        "colab": {
          "base_uri": "https://localhost:8080/"
        },
        "id": "nW3hUTrkiU5L",
        "outputId": "ebadd9ec-8b65-453e-ad92-81ad0473409a"
      },
      "execution_count": null,
      "outputs": [
        {
          "output_type": "execute_result",
          "data": {
            "text/plain": [
              "tensor([ 1,  3,  5,  7,  9, 11, 13, 15, 17, 19, 21, 23, 25, 27, 29, 31, 33, 35,\n",
              "        37, 39, 41, 43, 45, 47, 49, 51, 53, 55, 57, 59, 61, 63, 65, 67, 69, 71,\n",
              "        73, 75, 77, 79, 81, 83, 85, 87, 89, 91, 93, 95, 97, 99])"
            ]
          },
          "metadata": {},
          "execution_count": 11
        }
      ]
    },
    {
      "cell_type": "code",
      "source": [
        "ten_zero = torch.zeros_like(rep)\n",
        "ten_zero"
      ],
      "metadata": {
        "colab": {
          "base_uri": "https://localhost:8080/"
        },
        "id": "t9-vkIK3jQ2M",
        "outputId": "d9b4f109-e288-473b-9b9c-3a93f9a4c236"
      },
      "execution_count": null,
      "outputs": [
        {
          "output_type": "execute_result",
          "data": {
            "text/plain": [
              "tensor([0, 0, 0, 0, 0, 0, 0, 0, 0, 0, 0, 0, 0, 0, 0, 0, 0, 0, 0, 0, 0, 0, 0, 0,\n",
              "        0, 0, 0, 0, 0, 0, 0, 0, 0, 0, 0, 0, 0, 0, 0, 0, 0, 0, 0, 0, 0, 0, 0, 0,\n",
              "        0, 0])"
            ]
          },
          "metadata": {},
          "execution_count": 12
        }
      ]
    },
    {
      "cell_type": "markdown",
      "source": [
        "TENSOR DATA TYPES"
      ],
      "metadata": {
        "id": "Kn8TytUwip8H"
      }
    },
    {
      "cell_type": "code",
      "source": [
        "float_32 = torch.tensor([1,2,3,45,67], dtype=torch.float16, device=None,requires_grad=False)\n",
        "float_32.dtype"
      ],
      "metadata": {
        "colab": {
          "base_uri": "https://localhost:8080/"
        },
        "id": "gr4fv6YTjZxb",
        "outputId": "f29840d5-678c-4391-9ffc-3e6879e7838c"
      },
      "execution_count": null,
      "outputs": [
        {
          "output_type": "execute_result",
          "data": {
            "text/plain": [
              "torch.float16"
            ]
          },
          "metadata": {},
          "execution_count": 13
        }
      ]
    },
    {
      "cell_type": "code",
      "source": [
        "float_16_tensor = float_32.type(torch.float64)\n",
        "float_16_tensor"
      ],
      "metadata": {
        "colab": {
          "base_uri": "https://localhost:8080/"
        },
        "id": "4-VME-WUkHiE",
        "outputId": "ffa5a740-70ec-4cf1-9851-69c55fc293c7"
      },
      "execution_count": null,
      "outputs": [
        {
          "output_type": "execute_result",
          "data": {
            "text/plain": [
              "tensor([ 1.,  2.,  3., 45., 67.], dtype=torch.float64)"
            ]
          },
          "metadata": {},
          "execution_count": 14
        }
      ]
    },
    {
      "cell_type": "markdown",
      "source": [
        "MATRIX MULTIPLICATION"
      ],
      "metadata": {
        "id": "6zuX_Rf1kb5Y"
      }
    },
    {
      "cell_type": "code",
      "source": [
        "torch.matmul(tensor,tensor)\n"
      ],
      "metadata": {
        "colab": {
          "base_uri": "https://localhost:8080/"
        },
        "id": "HLmg_uXMnW_2",
        "outputId": "cf3a96de-83e6-4fc2-d6db-ce5bf35d00a2"
      },
      "execution_count": null,
      "outputs": [
        {
          "output_type": "execute_result",
          "data": {
            "text/plain": [
              "tensor([[[ 30,  36,  42],\n",
              "         [ 66,  81,  96],\n",
              "         [102, 126, 150]]])"
            ]
          },
          "metadata": {},
          "execution_count": 15
        }
      ]
    },
    {
      "cell_type": "code",
      "source": [
        "tensor_a = torch.tensor([[1, 2], [3, 4]])\n",
        "tensor_b = torch.tensor([[5, 6], [7, 8]])"
      ],
      "metadata": {
        "id": "1euJ6HjgoDIR"
      },
      "execution_count": null,
      "outputs": []
    },
    {
      "cell_type": "code",
      "source": [
        "result = torch.matmul(tensor_a, tensor_b)\n",
        "print(result)"
      ],
      "metadata": {
        "colab": {
          "base_uri": "https://localhost:8080/"
        },
        "id": "fm4aNwOHowiR",
        "outputId": "9be184ff-e889-43bd-e7ed-a9b2770c7aba"
      },
      "execution_count": null,
      "outputs": [
        {
          "output_type": "stream",
          "name": "stdout",
          "text": [
            "tensor([[19, 22],\n",
            "        [43, 50]])\n"
          ]
        }
      ]
    },
    {
      "cell_type": "code",
      "source": [
        "tensor_b"
      ],
      "metadata": {
        "colab": {
          "base_uri": "https://localhost:8080/"
        },
        "id": "eq-dRW3_oy-B",
        "outputId": "c6586b3a-836a-483f-95aa-1a9f84ea2eab"
      },
      "execution_count": null,
      "outputs": [
        {
          "output_type": "execute_result",
          "data": {
            "text/plain": [
              "tensor([[5, 6],\n",
              "        [7, 8]])"
            ]
          },
          "metadata": {},
          "execution_count": 18
        }
      ]
    },
    {
      "cell_type": "code",
      "source": [
        "tensor_b.T"
      ],
      "metadata": {
        "colab": {
          "base_uri": "https://localhost:8080/"
        },
        "id": "N0gAWD4PGAqh",
        "outputId": "32d0fb8d-a44d-4d09-dc76-97e46de946bf"
      },
      "execution_count": null,
      "outputs": [
        {
          "output_type": "execute_result",
          "data": {
            "text/plain": [
              "tensor([[5, 7],\n",
              "        [6, 8]])"
            ]
          },
          "metadata": {},
          "execution_count": 19
        }
      ]
    },
    {
      "cell_type": "code",
      "source": [
        "result1 = torch.matmul(tensor_a, tensor_b.T)\n",
        "print(result1)"
      ],
      "metadata": {
        "colab": {
          "base_uri": "https://localhost:8080/"
        },
        "id": "elf5imuOGEsp",
        "outputId": "990a2f38-32f8-48cb-e2a3-1f30be66f934"
      },
      "execution_count": null,
      "outputs": [
        {
          "output_type": "stream",
          "name": "stdout",
          "text": [
            "tensor([[17, 23],\n",
            "        [39, 53]])\n"
          ]
        }
      ]
    },
    {
      "cell_type": "markdown",
      "source": [
        "TENSOR AGGREGATION"
      ],
      "metadata": {
        "id": "LUs3gjhUGcSv"
      }
    },
    {
      "cell_type": "code",
      "source": [
        "x = torch.arange(1,100,2)\n",
        "x"
      ],
      "metadata": {
        "colab": {
          "base_uri": "https://localhost:8080/"
        },
        "id": "XUNM3aOGHF4y",
        "outputId": "4f0408e8-52f2-47e2-d4b3-89db81fe60bb"
      },
      "execution_count": null,
      "outputs": [
        {
          "output_type": "execute_result",
          "data": {
            "text/plain": [
              "tensor([ 1,  3,  5,  7,  9, 11, 13, 15, 17, 19, 21, 23, 25, 27, 29, 31, 33, 35,\n",
              "        37, 39, 41, 43, 45, 47, 49, 51, 53, 55, 57, 59, 61, 63, 65, 67, 69, 71,\n",
              "        73, 75, 77, 79, 81, 83, 85, 87, 89, 91, 93, 95, 97, 99])"
            ]
          },
          "metadata": {},
          "execution_count": 21
        }
      ]
    },
    {
      "cell_type": "markdown",
      "source": [],
      "metadata": {
        "id": "7fHu57JKH75r"
      }
    },
    {
      "cell_type": "code",
      "source": [
        "torch.min(x), torch.max(x)"
      ],
      "metadata": {
        "colab": {
          "base_uri": "https://localhost:8080/"
        },
        "id": "GBbdLYfZHORa",
        "outputId": "dee8ceb9-f2f4-46c9-8460-cb5f52e64eb7"
      },
      "execution_count": null,
      "outputs": [
        {
          "output_type": "execute_result",
          "data": {
            "text/plain": [
              "(tensor(1), tensor(99))"
            ]
          },
          "metadata": {},
          "execution_count": 25
        }
      ]
    },
    {
      "cell_type": "code",
      "source": [
        "torch.mean(x.type(torch.float32))"
      ],
      "metadata": {
        "colab": {
          "base_uri": "https://localhost:8080/"
        },
        "id": "gutNhfBnHRR2",
        "outputId": "b5fbbdb8-9f83-4935-c4fc-0405edfb5e5f"
      },
      "execution_count": null,
      "outputs": [
        {
          "output_type": "execute_result",
          "data": {
            "text/plain": [
              "tensor(50.)"
            ]
          },
          "metadata": {},
          "execution_count": 26
        }
      ]
    },
    {
      "cell_type": "markdown",
      "source": [
        "POSITIONAL MIN AND MAX"
      ],
      "metadata": {
        "id": "0uF1zcmjITof"
      }
    },
    {
      "cell_type": "code",
      "source": [
        "x"
      ],
      "metadata": {
        "colab": {
          "base_uri": "https://localhost:8080/"
        },
        "id": "Lesj7AnZIjaK",
        "outputId": "09cc07ba-7831-481a-d61b-32492fd20a5c"
      },
      "execution_count": null,
      "outputs": [
        {
          "output_type": "execute_result",
          "data": {
            "text/plain": [
              "tensor([ 1,  3,  5,  7,  9, 11, 13, 15, 17, 19, 21, 23, 25, 27, 29, 31, 33, 35,\n",
              "        37, 39, 41, 43, 45, 47, 49, 51, 53, 55, 57, 59, 61, 63, 65, 67, 69, 71,\n",
              "        73, 75, 77, 79, 81, 83, 85, 87, 89, 91, 93, 95, 97, 99])"
            ]
          },
          "metadata": {},
          "execution_count": 27
        }
      ]
    },
    {
      "cell_type": "code",
      "source": [
        "x.argmin(), x.argmax()"
      ],
      "metadata": {
        "colab": {
          "base_uri": "https://localhost:8080/"
        },
        "id": "2Qykxi2RIpxt",
        "outputId": "e382e1a2-259b-483b-ad74-4006aea008df"
      },
      "execution_count": null,
      "outputs": [
        {
          "output_type": "execute_result",
          "data": {
            "text/plain": [
              "(tensor(0), tensor(49))"
            ]
          },
          "metadata": {},
          "execution_count": 29
        }
      ]
    },
    {
      "cell_type": "code",
      "source": [
        "x[49], x[0]"
      ],
      "metadata": {
        "colab": {
          "base_uri": "https://localhost:8080/"
        },
        "id": "W8s6DffQIsZI",
        "outputId": "f0018d5c-a064-42b5-d187-b8813c6825c0"
      },
      "execution_count": null,
      "outputs": [
        {
          "output_type": "execute_result",
          "data": {
            "text/plain": [
              "(tensor(99), tensor(1))"
            ]
          },
          "metadata": {},
          "execution_count": 33
        }
      ]
    },
    {
      "cell_type": "markdown",
      "source": [
        "RESHAPING, SQUEEZING, UNSQUEEZING TENSORS"
      ],
      "metadata": {
        "id": "tRGblRiDJF5p"
      }
    },
    {
      "cell_type": "code",
      "source": [
        "x.shape"
      ],
      "metadata": {
        "colab": {
          "base_uri": "https://localhost:8080/"
        },
        "id": "m0iR6jKyJVvj",
        "outputId": "e7fc729f-0452-405d-bad5-776be0fe96c4"
      },
      "execution_count": null,
      "outputs": [
        {
          "output_type": "execute_result",
          "data": {
            "text/plain": [
              "torch.Size([50])"
            ]
          },
          "metadata": {},
          "execution_count": 34
        }
      ]
    },
    {
      "cell_type": "code",
      "source": [
        "x_reshape = x.reshape(1,50)\n",
        "x_reshape"
      ],
      "metadata": {
        "colab": {
          "base_uri": "https://localhost:8080/"
        },
        "id": "QRZ8kkIuKBy6",
        "outputId": "8c3f4198-a13f-4416-95d9-642f8d96b01e"
      },
      "execution_count": null,
      "outputs": [
        {
          "output_type": "execute_result",
          "data": {
            "text/plain": [
              "tensor([[ 1,  3,  5,  7,  9, 11, 13, 15, 17, 19, 21, 23, 25, 27, 29, 31, 33, 35,\n",
              "         37, 39, 41, 43, 45, 47, 49, 51, 53, 55, 57, 59, 61, 63, 65, 67, 69, 71,\n",
              "         73, 75, 77, 79, 81, 83, 85, 87, 89, 91, 93, 95, 97, 99]])"
            ]
          },
          "metadata": {},
          "execution_count": 40
        }
      ]
    },
    {
      "cell_type": "code",
      "source": [
        "x_reshape"
      ],
      "metadata": {
        "colab": {
          "base_uri": "https://localhost:8080/"
        },
        "id": "ma20X5xOKJn6",
        "outputId": "6be16bf2-9ea7-43b3-fc3e-74fc81cf5468"
      },
      "execution_count": null,
      "outputs": [
        {
          "output_type": "execute_result",
          "data": {
            "text/plain": [
              "tensor([[ 1,  3,  5,  7,  9, 11, 13, 15, 17, 19, 21, 23, 25, 27, 29, 31, 33, 35,\n",
              "         37, 39, 41, 43, 45, 47, 49, 51, 53, 55, 57, 59, 61, 63, 65, 67, 69, 71,\n",
              "         73, 75, 77, 79, 81, 83, 85, 87, 89, 91, 93, 95, 97, 99]])"
            ]
          },
          "metadata": {},
          "execution_count": 38
        }
      ]
    },
    {
      "cell_type": "code",
      "source": [
        "z = x.view(1,50)\n",
        "z, z.shape"
      ],
      "metadata": {
        "colab": {
          "base_uri": "https://localhost:8080/"
        },
        "id": "Ag_NJD11KRJA",
        "outputId": "93e4121f-cb95-40aa-aece-4ef8902476ea"
      },
      "execution_count": null,
      "outputs": [
        {
          "output_type": "execute_result",
          "data": {
            "text/plain": [
              "(tensor([[ 1,  3,  5,  7,  9, 11, 13, 15, 17, 19, 21, 23, 25, 27, 29, 31, 33, 35,\n",
              "          37, 39, 41, 43, 45, 47, 49, 51, 53, 55, 57, 59, 61, 63, 65, 67, 69, 71,\n",
              "          73, 75, 77, 79, 81, 83, 85, 87, 89, 91, 93, 95, 97, 99]]),\n",
              " torch.Size([1, 50]))"
            ]
          },
          "metadata": {},
          "execution_count": 42
        }
      ]
    },
    {
      "cell_type": "code",
      "source": [
        "x_stacked = torch.stack([x, x, x, x], dim=0)\n",
        "x_stacked"
      ],
      "metadata": {
        "colab": {
          "base_uri": "https://localhost:8080/"
        },
        "id": "Ew7mdehkK6NG",
        "outputId": "54a1a342-f2a8-4a1f-8320-0b1c67f67093"
      },
      "execution_count": null,
      "outputs": [
        {
          "output_type": "execute_result",
          "data": {
            "text/plain": [
              "tensor([[[ 1,  3,  5,  7,  9, 11, 13, 15, 17, 19, 21, 23, 25, 27, 29, 31, 33,\n",
              "          35, 37, 39, 41, 43, 45, 47, 49, 51, 53, 55, 57, 59, 61, 63, 65, 67,\n",
              "          69, 71, 73, 75, 77, 79, 81, 83, 85, 87, 89, 91, 93, 95, 97, 99]],\n",
              "\n",
              "        [[ 1,  3,  5,  7,  9, 11, 13, 15, 17, 19, 21, 23, 25, 27, 29, 31, 33,\n",
              "          35, 37, 39, 41, 43, 45, 47, 49, 51, 53, 55, 57, 59, 61, 63, 65, 67,\n",
              "          69, 71, 73, 75, 77, 79, 81, 83, 85, 87, 89, 91, 93, 95, 97, 99]],\n",
              "\n",
              "        [[ 1,  3,  5,  7,  9, 11, 13, 15, 17, 19, 21, 23, 25, 27, 29, 31, 33,\n",
              "          35, 37, 39, 41, 43, 45, 47, 49, 51, 53, 55, 57, 59, 61, 63, 65, 67,\n",
              "          69, 71, 73, 75, 77, 79, 81, 83, 85, 87, 89, 91, 93, 95, 97, 99]],\n",
              "\n",
              "        [[ 1,  3,  5,  7,  9, 11, 13, 15, 17, 19, 21, 23, 25, 27, 29, 31, 33,\n",
              "          35, 37, 39, 41, 43, 45, 47, 49, 51, 53, 55, 57, 59, 61, 63, 65, 67,\n",
              "          69, 71, 73, 75, 77, 79, 81, 83, 85, 87, 89, 91, 93, 95, 97, 99]]])"
            ]
          },
          "metadata": {},
          "execution_count": 45
        }
      ]
    },
    {
      "cell_type": "code",
      "source": [
        "x_reshape"
      ],
      "metadata": {
        "colab": {
          "base_uri": "https://localhost:8080/"
        },
        "id": "fSPoMMKJLnWM",
        "outputId": "16c43ce6-d877-46b3-892d-34bcfd38b50b"
      },
      "execution_count": null,
      "outputs": [
        {
          "output_type": "execute_result",
          "data": {
            "text/plain": [
              "tensor([[ 1,  3,  5,  7,  9, 11, 13, 15, 17, 19, 21, 23, 25, 27, 29, 31, 33, 35,\n",
              "         37, 39, 41, 43, 45, 47, 49, 51, 53, 55, 57, 59, 61, 63, 65, 67, 69, 71,\n",
              "         73, 75, 77, 79, 81, 83, 85, 87, 89, 91, 93, 95, 97, 99]])"
            ]
          },
          "metadata": {},
          "execution_count": 60
        }
      ]
    },
    {
      "cell_type": "code",
      "source": [
        "x_reshape.shape"
      ],
      "metadata": {
        "colab": {
          "base_uri": "https://localhost:8080/"
        },
        "id": "cFgHqGCSL_ru",
        "outputId": "e6eae346-4cb0-4bfd-86a7-4a278ad3636b"
      },
      "execution_count": null,
      "outputs": [
        {
          "output_type": "execute_result",
          "data": {
            "text/plain": [
              "torch.Size([1, 50])"
            ]
          },
          "metadata": {},
          "execution_count": 61
        }
      ]
    },
    {
      "cell_type": "code",
      "source": [
        "x_reshape.squeeze()"
      ],
      "metadata": {
        "colab": {
          "base_uri": "https://localhost:8080/"
        },
        "id": "NzSAD7wyMBjR",
        "outputId": "0c3f60c2-5e12-43df-ba9f-639f636654d3"
      },
      "execution_count": null,
      "outputs": [
        {
          "output_type": "execute_result",
          "data": {
            "text/plain": [
              "tensor([ 1,  3,  5,  7,  9, 11, 13, 15, 17, 19, 21, 23, 25, 27, 29, 31, 33, 35,\n",
              "        37, 39, 41, 43, 45, 47, 49, 51, 53, 55, 57, 59, 61, 63, 65, 67, 69, 71,\n",
              "        73, 75, 77, 79, 81, 83, 85, 87, 89, 91, 93, 95, 97, 99])"
            ]
          },
          "metadata": {},
          "execution_count": 62
        }
      ]
    },
    {
      "cell_type": "code",
      "source": [
        " x_reshape.shape"
      ],
      "metadata": {
        "colab": {
          "base_uri": "https://localhost:8080/"
        },
        "id": "CX68tW23MJ5b",
        "outputId": "7b77a663-2a4b-4104-e707-19ac032c11fb"
      },
      "execution_count": null,
      "outputs": [
        {
          "output_type": "execute_result",
          "data": {
            "text/plain": [
              "torch.Size([1, 50])"
            ]
          },
          "metadata": {},
          "execution_count": 63
        }
      ]
    },
    {
      "cell_type": "code",
      "source": [
        "y = torch.arange(1,50)\n",
        "y\n",
        "y.shape"
      ],
      "metadata": {
        "colab": {
          "base_uri": "https://localhost:8080/"
        },
        "id": "yP546j76MTkU",
        "outputId": "428d6011-60c7-483f-f4b7-ddf11c9e67e9"
      },
      "execution_count": null,
      "outputs": [
        {
          "output_type": "execute_result",
          "data": {
            "text/plain": [
              "torch.Size([49])"
            ]
          },
          "metadata": {},
          "execution_count": 66
        }
      ]
    },
    {
      "cell_type": "code",
      "source": [
        "y_reshape = y.reshape(1,49)\n",
        "y_reshape\n"
      ],
      "metadata": {
        "colab": {
          "base_uri": "https://localhost:8080/"
        },
        "id": "r9jGbg1RO61K",
        "outputId": "d2abf2ce-eb87-4ca4-e23d-b51455b362ab"
      },
      "execution_count": null,
      "outputs": [
        {
          "output_type": "execute_result",
          "data": {
            "text/plain": [
              "tensor([[ 1,  2,  3,  4,  5,  6,  7,  8,  9, 10, 11, 12, 13, 14, 15, 16, 17, 18,\n",
              "         19, 20, 21, 22, 23, 24, 25, 26, 27, 28, 29, 30, 31, 32, 33, 34, 35, 36,\n",
              "         37, 38, 39, 40, 41, 42, 43, 44, 45, 46, 47, 48, 49]])"
            ]
          },
          "metadata": {},
          "execution_count": 68
        }
      ]
    },
    {
      "cell_type": "code",
      "source": [
        "y_squeezed = y_reshape.squeeze()\n",
        "y_squeezed"
      ],
      "metadata": {
        "colab": {
          "base_uri": "https://localhost:8080/"
        },
        "id": "PzUApDbYPL_2",
        "outputId": "178ab3f1-6a92-45dd-f244-3c51bd86da93"
      },
      "execution_count": null,
      "outputs": [
        {
          "output_type": "execute_result",
          "data": {
            "text/plain": [
              "tensor([ 1,  2,  3,  4,  5,  6,  7,  8,  9, 10, 11, 12, 13, 14, 15, 16, 17, 18,\n",
              "        19, 20, 21, 22, 23, 24, 25, 26, 27, 28, 29, 30, 31, 32, 33, 34, 35, 36,\n",
              "        37, 38, 39, 40, 41, 42, 43, 44, 45, 46, 47, 48, 49])"
            ]
          },
          "metadata": {},
          "execution_count": 69
        }
      ]
    },
    {
      "cell_type": "code",
      "source": [
        "y_squeezed.shape"
      ],
      "metadata": {
        "colab": {
          "base_uri": "https://localhost:8080/"
        },
        "id": "jazpBIG5PcXu",
        "outputId": "ff4888ff-6908-4ff3-b0df-e717046a99fa"
      },
      "execution_count": null,
      "outputs": [
        {
          "output_type": "execute_result",
          "data": {
            "text/plain": [
              "torch.Size([49])"
            ]
          },
          "metadata": {},
          "execution_count": 70
        }
      ]
    },
    {
      "cell_type": "code",
      "source": [
        "y_unsqueezed = y_squeezed.unsqueeze(dim=1)\n",
        "y_unsqueezed\n"
      ],
      "metadata": {
        "colab": {
          "base_uri": "https://localhost:8080/"
        },
        "id": "izLdGDNyPfod",
        "outputId": "90df54c6-60c7-4a49-c7a9-d3faeecf397e"
      },
      "execution_count": null,
      "outputs": [
        {
          "output_type": "execute_result",
          "data": {
            "text/plain": [
              "tensor([[ 1],\n",
              "        [ 2],\n",
              "        [ 3],\n",
              "        [ 4],\n",
              "        [ 5],\n",
              "        [ 6],\n",
              "        [ 7],\n",
              "        [ 8],\n",
              "        [ 9],\n",
              "        [10],\n",
              "        [11],\n",
              "        [12],\n",
              "        [13],\n",
              "        [14],\n",
              "        [15],\n",
              "        [16],\n",
              "        [17],\n",
              "        [18],\n",
              "        [19],\n",
              "        [20],\n",
              "        [21],\n",
              "        [22],\n",
              "        [23],\n",
              "        [24],\n",
              "        [25],\n",
              "        [26],\n",
              "        [27],\n",
              "        [28],\n",
              "        [29],\n",
              "        [30],\n",
              "        [31],\n",
              "        [32],\n",
              "        [33],\n",
              "        [34],\n",
              "        [35],\n",
              "        [36],\n",
              "        [37],\n",
              "        [38],\n",
              "        [39],\n",
              "        [40],\n",
              "        [41],\n",
              "        [42],\n",
              "        [43],\n",
              "        [44],\n",
              "        [45],\n",
              "        [46],\n",
              "        [47],\n",
              "        [48],\n",
              "        [49]])"
            ]
          },
          "metadata": {},
          "execution_count": 78
        }
      ]
    },
    {
      "cell_type": "code",
      "source": [
        "y_unsqueezed.shape"
      ],
      "metadata": {
        "colab": {
          "base_uri": "https://localhost:8080/"
        },
        "id": "1a6q9JMaPv96",
        "outputId": "cd96dee8-87ae-442f-91de-fe023636a98a"
      },
      "execution_count": null,
      "outputs": [
        {
          "output_type": "execute_result",
          "data": {
            "text/plain": [
              "torch.Size([49, 1])"
            ]
          },
          "metadata": {},
          "execution_count": 79
        }
      ]
    },
    {
      "cell_type": "code",
      "source": [
        "y_unsqueezed = y_squeezed.unsqueeze(dim=0)\n",
        "y_unsqueezed"
      ],
      "metadata": {
        "colab": {
          "base_uri": "https://localhost:8080/"
        },
        "id": "U1iGVUTuQJMb",
        "outputId": "6778358b-2365-4165-a45f-528d9b5df095"
      },
      "execution_count": null,
      "outputs": [
        {
          "output_type": "execute_result",
          "data": {
            "text/plain": [
              "tensor([[ 1,  2,  3,  4,  5,  6,  7,  8,  9, 10, 11, 12, 13, 14, 15, 16, 17, 18,\n",
              "         19, 20, 21, 22, 23, 24, 25, 26, 27, 28, 29, 30, 31, 32, 33, 34, 35, 36,\n",
              "         37, 38, 39, 40, 41, 42, 43, 44, 45, 46, 47, 48, 49]])"
            ]
          },
          "metadata": {},
          "execution_count": 80
        }
      ]
    },
    {
      "cell_type": "code",
      "source": [
        "y_unsqueezed.shape"
      ],
      "metadata": {
        "colab": {
          "base_uri": "https://localhost:8080/"
        },
        "id": "eIeJxW2zQOx7",
        "outputId": "fee87b89-138e-4ad5-fea0-9fbda6bc09f8"
      },
      "execution_count": null,
      "outputs": [
        {
          "output_type": "execute_result",
          "data": {
            "text/plain": [
              "torch.Size([1, 49])"
            ]
          },
          "metadata": {},
          "execution_count": 81
        }
      ]
    },
    {
      "cell_type": "markdown",
      "source": [
        "PERMUTE"
      ],
      "metadata": {
        "id": "0fZG8kvjQQSl"
      }
    },
    {
      "cell_type": "code",
      "source": [
        "x_new = torch.rand(size=(224,224,3))\n",
        "x_new\n"
      ],
      "metadata": {
        "colab": {
          "base_uri": "https://localhost:8080/"
        },
        "id": "AezopMqsQcyx",
        "outputId": "420ef36c-db43-42b7-e984-6e3d738830f4"
      },
      "execution_count": null,
      "outputs": [
        {
          "output_type": "execute_result",
          "data": {
            "text/plain": [
              "tensor([[[0.8244, 0.2520, 0.0567],\n",
              "         [0.3204, 0.0911, 0.6715],\n",
              "         [0.9667, 0.2821, 0.1924],\n",
              "         ...,\n",
              "         [0.5250, 0.0297, 0.3124],\n",
              "         [0.7545, 0.6762, 0.6233],\n",
              "         [0.9625, 0.5769, 0.0131]],\n",
              "\n",
              "        [[0.6862, 0.8754, 0.7005],\n",
              "         [0.6265, 0.5995, 0.3450],\n",
              "         [0.7878, 0.0061, 0.6205],\n",
              "         ...,\n",
              "         [0.2651, 0.8406, 0.4045],\n",
              "         [0.7360, 0.6546, 0.1916],\n",
              "         [0.1908, 0.4127, 0.3634]],\n",
              "\n",
              "        [[0.3844, 0.7410, 0.2178],\n",
              "         [0.7669, 0.5268, 0.4050],\n",
              "         [0.8724, 0.2458, 0.2404],\n",
              "         ...,\n",
              "         [0.3705, 0.1287, 0.1394],\n",
              "         [0.7229, 0.1427, 0.7863],\n",
              "         [0.4753, 0.0087, 0.8275]],\n",
              "\n",
              "        ...,\n",
              "\n",
              "        [[0.5755, 0.2693, 0.9678],\n",
              "         [0.8972, 0.6107, 0.6807],\n",
              "         [0.3531, 0.9639, 0.5203],\n",
              "         ...,\n",
              "         [0.1810, 0.6988, 0.8473],\n",
              "         [0.9656, 0.4317, 0.0246],\n",
              "         [0.3304, 0.4808, 0.3274]],\n",
              "\n",
              "        [[0.3985, 0.8603, 0.4629],\n",
              "         [0.3387, 0.6610, 0.6018],\n",
              "         [0.6412, 0.2799, 0.7099],\n",
              "         ...,\n",
              "         [0.8003, 0.8973, 0.6734],\n",
              "         [0.4465, 0.0649, 0.3974],\n",
              "         [0.0135, 0.6215, 0.7223]],\n",
              "\n",
              "        [[0.1153, 0.7081, 0.5666],\n",
              "         [0.4612, 0.3842, 0.5969],\n",
              "         [0.6256, 0.7478, 0.8711],\n",
              "         ...,\n",
              "         [0.1611, 0.8899, 0.2979],\n",
              "         [0.7683, 0.3160, 0.2602],\n",
              "         [0.9602, 0.2452, 0.7629]]])"
            ]
          },
          "metadata": {},
          "execution_count": 86
        }
      ]
    },
    {
      "cell_type": "code",
      "source": [
        "x_perm = x_new.permute(2,0,1)\n",
        "x_perm"
      ],
      "metadata": {
        "colab": {
          "base_uri": "https://localhost:8080/"
        },
        "id": "OrT0FAMWQmbL",
        "outputId": "bfbe7c7b-e361-442e-ebd7-a5775e998a65"
      },
      "execution_count": null,
      "outputs": [
        {
          "output_type": "execute_result",
          "data": {
            "text/plain": [
              "tensor([[[0.8244, 0.3204, 0.9667,  ..., 0.5250, 0.7545, 0.9625],\n",
              "         [0.6862, 0.6265, 0.7878,  ..., 0.2651, 0.7360, 0.1908],\n",
              "         [0.3844, 0.7669, 0.8724,  ..., 0.3705, 0.7229, 0.4753],\n",
              "         ...,\n",
              "         [0.5755, 0.8972, 0.3531,  ..., 0.1810, 0.9656, 0.3304],\n",
              "         [0.3985, 0.3387, 0.6412,  ..., 0.8003, 0.4465, 0.0135],\n",
              "         [0.1153, 0.4612, 0.6256,  ..., 0.1611, 0.7683, 0.9602]],\n",
              "\n",
              "        [[0.2520, 0.0911, 0.2821,  ..., 0.0297, 0.6762, 0.5769],\n",
              "         [0.8754, 0.5995, 0.0061,  ..., 0.8406, 0.6546, 0.4127],\n",
              "         [0.7410, 0.5268, 0.2458,  ..., 0.1287, 0.1427, 0.0087],\n",
              "         ...,\n",
              "         [0.2693, 0.6107, 0.9639,  ..., 0.6988, 0.4317, 0.4808],\n",
              "         [0.8603, 0.6610, 0.2799,  ..., 0.8973, 0.0649, 0.6215],\n",
              "         [0.7081, 0.3842, 0.7478,  ..., 0.8899, 0.3160, 0.2452]],\n",
              "\n",
              "        [[0.0567, 0.6715, 0.1924,  ..., 0.3124, 0.6233, 0.0131],\n",
              "         [0.7005, 0.3450, 0.6205,  ..., 0.4045, 0.1916, 0.3634],\n",
              "         [0.2178, 0.4050, 0.2404,  ..., 0.1394, 0.7863, 0.8275],\n",
              "         ...,\n",
              "         [0.9678, 0.6807, 0.5203,  ..., 0.8473, 0.0246, 0.3274],\n",
              "         [0.4629, 0.6018, 0.7099,  ..., 0.6734, 0.3974, 0.7223],\n",
              "         [0.5666, 0.5969, 0.8711,  ..., 0.2979, 0.2602, 0.7629]]])"
            ]
          },
          "metadata": {},
          "execution_count": 87
        }
      ]
    },
    {
      "cell_type": "code",
      "source": [
        "a = torch.randn(2, 3, 5)\n",
        "a\n",
        "a.size()"
      ],
      "metadata": {
        "colab": {
          "base_uri": "https://localhost:8080/"
        },
        "id": "rJ4sjdJBRR7v",
        "outputId": "3e003c54-1e48-407e-f09d-665e9b73ccf5"
      },
      "execution_count": null,
      "outputs": [
        {
          "output_type": "execute_result",
          "data": {
            "text/plain": [
              "torch.Size([2, 3, 5])"
            ]
          },
          "metadata": {},
          "execution_count": 88
        }
      ]
    },
    {
      "cell_type": "code",
      "source": [
        "new_a = torch.permute(a, (1, 0, 2)).size()\n",
        "new_a"
      ],
      "metadata": {
        "colab": {
          "base_uri": "https://localhost:8080/"
        },
        "id": "DwQrmDKfSI97",
        "outputId": "7aac164a-79d5-4c78-aceb-02e51d2ccec1"
      },
      "execution_count": null,
      "outputs": [
        {
          "output_type": "execute_result",
          "data": {
            "text/plain": [
              "torch.Size([3, 2, 5])"
            ]
          },
          "metadata": {},
          "execution_count": 93
        }
      ]
    },
    {
      "cell_type": "code",
      "source": [
        "new_a"
      ],
      "metadata": {
        "colab": {
          "base_uri": "https://localhost:8080/"
        },
        "id": "2k3jDky7SM1d",
        "outputId": "54f5df8c-8fd9-47ff-ae76-afe1d91e5050"
      },
      "execution_count": null,
      "outputs": [
        {
          "output_type": "execute_result",
          "data": {
            "text/plain": [
              "torch.Size([3, 2, 5])"
            ]
          },
          "metadata": {},
          "execution_count": 94
        }
      ]
    },
    {
      "cell_type": "markdown",
      "source": [
        "INDEXING SELECTING DATA FROM TENSORS"
      ],
      "metadata": {
        "id": "DK2zZBozSUy8"
      }
    },
    {
      "cell_type": "code",
      "source": [
        "b = torch.arange(1,10).reshape(1,3,3)\n",
        "b, b.shape"
      ],
      "metadata": {
        "colab": {
          "base_uri": "https://localhost:8080/"
        },
        "id": "sYSSKRw8SwUc",
        "outputId": "94444e0d-8d61-450f-adca-fbb2fa258cf0"
      },
      "execution_count": null,
      "outputs": [
        {
          "output_type": "execute_result",
          "data": {
            "text/plain": [
              "(tensor([[[1, 2, 3],\n",
              "          [4, 5, 6],\n",
              "          [7, 8, 9]]]),\n",
              " torch.Size([1, 3, 3]))"
            ]
          },
          "metadata": {},
          "execution_count": 95
        }
      ]
    },
    {
      "cell_type": "code",
      "source": [
        "b[0][0][2], b[0][1][0], b[0][2][2], b[:,:,1], b[:,1,1], b[0][2][1]"
      ],
      "metadata": {
        "colab": {
          "base_uri": "https://localhost:8080/"
        },
        "id": "Jj4tjRO3S9Oq",
        "outputId": "5cece7f0-2960-4280-cf43-6653a59bc1b3"
      },
      "execution_count": null,
      "outputs": [
        {
          "output_type": "execute_result",
          "data": {
            "text/plain": [
              "(tensor(3), tensor(4), tensor(9), tensor([[2, 5, 8]]), tensor([5]), tensor(8))"
            ]
          },
          "metadata": {},
          "execution_count": 107
        }
      ]
    },
    {
      "cell_type": "code",
      "source": [
        "torch.cuda.is_available()\n"
      ],
      "metadata": {
        "colab": {
          "base_uri": "https://localhost:8080/"
        },
        "id": "4PLC3hjUVNR3",
        "outputId": "8d577563-a97c-4a3b-f4e0-8192e42e18d1"
      },
      "execution_count": null,
      "outputs": [
        {
          "output_type": "execute_result",
          "data": {
            "text/plain": [
              "False"
            ]
          },
          "metadata": {},
          "execution_count": 117
        }
      ]
    },
    {
      "cell_type": "code",
      "source": [
        "device = \"cuda\" if torch.cuda.is_available() else \"cpu\"\n",
        "device"
      ],
      "metadata": {
        "colab": {
          "base_uri": "https://localhost:8080/",
          "height": 35
        },
        "id": "vFV1jySgV-HE",
        "outputId": "b925f4e8-6400-4291-8a9d-4a9cb77a2d8f"
      },
      "execution_count": null,
      "outputs": [
        {
          "output_type": "execute_result",
          "data": {
            "text/plain": [
              "'cpu'"
            ],
            "application/vnd.google.colaboratory.intrinsic+json": {
              "type": "string"
            }
          },
          "metadata": {},
          "execution_count": 118
        }
      ]
    },
    {
      "cell_type": "code",
      "source": [],
      "metadata": {
        "id": "k5bD54qvYeU7"
      },
      "execution_count": null,
      "outputs": []
    },
    {
      "cell_type": "code",
      "source": [],
      "metadata": {
        "id": "CZawC0udYn8F"
      },
      "execution_count": null,
      "outputs": []
    }
  ]
}